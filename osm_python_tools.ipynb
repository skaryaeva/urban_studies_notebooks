{
 "cells": [
  {
   "cell_type": "markdown",
   "metadata": {},
   "source": [
    "## Overpass API \n",
    "\n",
    "works with https://github.com/mocnik-science/osm-python-tools/ library\n",
    "\n",
    "categories are presented for example here https://github.com/GIScience/openpoiservice/blob/master/categories_docker.yml"
   ]
  },
  {
   "cell_type": "code",
   "execution_count": 1,
   "metadata": {},
   "outputs": [],
   "source": [
    "import pandas as pd\n",
    "import time\n",
    "from OSMPythonTools.overpass import overpassQueryBuilder\n",
    "from OSMPythonTools.overpass import Overpass\n",
    "overpass = Overpass(waitBetweenQueries = 50)"
   ]
  },
  {
   "cell_type": "code",
   "execution_count": 3,
   "metadata": {},
   "outputs": [],
   "source": [
    "custom_bbox = [48.1, 16.3, 48.3, 16.5]"
   ]
  },
  {
   "cell_type": "code",
   "execution_count": 4,
   "metadata": {},
   "outputs": [],
   "source": [
    "def poi_request(item_type, search_query):\n",
    "    # query built\n",
    "    query = overpassQueryBuilder(bbox=custom_bbox, elementType='node', \n",
    "                                     selector='\"{}\"=\"{}\"'.format(str(item_type), str(search_query)), out='body')\n",
    "    result = overpass.query(query, timeout=100000)\n",
    "\n",
    "    # result in json\n",
    "    result = result.toJSON()['elements']\n",
    "    \n",
    "    # separate tags\n",
    "    for row in result:\n",
    "        row.update(row['tags'])\n",
    "\n",
    "    df = pd.DataFrame(result)\n",
    "    return df"
   ]
  },
  {
   "cell_type": "code",
   "execution_count": 2,
   "metadata": {},
   "outputs": [],
   "source": [
    "# lists of items to request\n",
    "\n",
    "tourism = ['hotel', 'motel']\n",
    "amenity = ['library', 'museum', 'bank', 'hospital', 'cafe', 'fast_food', 'pub', 'restaurant']\n",
    "shop = ['shoes', 'alcohol', 'bakery', 'cheese', 'tobacco']"
   ]
  },
  {
   "cell_type": "code",
   "execution_count": 8,
   "metadata": {},
   "outputs": [
    {
     "name": "stderr",
     "output_type": "stream",
     "text": [
      "[overpass] downloading data: [timeout:100000][out:json];(node[\"amenity\"=\"library\"](48.1,16.3,48.3,16.5);); out body;\n",
      "[overpass] downloading data: [timeout:100000][out:json];(node[\"amenity\"=\"museum\"](48.1,16.3,48.3,16.5);); out body;\n",
      "[overpass] downloading data: [timeout:100000][out:json];(node[\"amenity\"=\"bank\"](48.1,16.3,48.3,16.5);); out body;\n",
      "[overpass] downloading data: [timeout:100000][out:json];(node[\"amenity\"=\"hospital\"](48.1,16.3,48.3,16.5);); out body;\n",
      "[overpass] downloading data: [timeout:100000][out:json];(node[\"amenity\"=\"cafe\"](48.1,16.3,48.3,16.5);); out body;\n",
      "[overpass] downloading data: [timeout:100000][out:json];(node[\"amenity\"=\"fast_food\"](48.1,16.3,48.3,16.5);); out body;\n",
      "[overpass] downloading data: [timeout:100000][out:json];(node[\"amenity\"=\"pub\"](48.1,16.3,48.3,16.5);); out body;\n",
      "[overpass] downloading data: [timeout:100000][out:json];(node[\"amenity\"=\"restaurant\"](48.1,16.3,48.3,16.5);); out body;\n"
     ]
    }
   ],
   "source": [
    "# request for items in item category\n",
    "for search_query in amenity:\n",
    "    df = poi_request('amenity', search_query)\n",
    "    time.sleep(100)\n",
    "\n",
    "    df.to_csv(\"./output/{}.csv\".format(str(search_query)))"
   ]
  }
 ],
 "metadata": {
  "kernelspec": {
   "display_name": "Python 3",
   "language": "python",
   "name": "python3"
  },
  "language_info": {
   "codemirror_mode": {
    "name": "ipython",
    "version": 3
   },
   "file_extension": ".py",
   "mimetype": "text/x-python",
   "name": "python",
   "nbconvert_exporter": "python",
   "pygments_lexer": "ipython3",
   "version": "3.8.6"
  }
 },
 "nbformat": 4,
 "nbformat_minor": 4
}
