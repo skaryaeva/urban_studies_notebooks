{
 "cells": [
  {
   "cell_type": "code",
   "execution_count": 1,
   "metadata": {},
   "outputs": [],
   "source": [
    "import pandas as pd"
   ]
  },
  {
   "cell_type": "markdown",
   "metadata": {},
   "source": [
    "### api keys and map underlay link"
   ]
  },
  {
   "cell_type": "code",
   "execution_count": 2,
   "metadata": {},
   "outputs": [],
   "source": [
    "# reading api keys\n",
    "api_keys = pd.read_excel('./input_params.xlsx', sheet_name = 'api_keys')\n",
    "api_keys.set_index('key_name', inplace=True)\n",
    "\n",
    "# link for mapbox map as a underlay for folium\n",
    "map_url = api_keys.loc['mapbox_map']['key']\n",
    "\n",
    "# API Yandex organization search\n",
    "search_api_key = api_keys.loc['yandex_search']['key']"
   ]
  },
  {
   "cell_type": "markdown",
   "metadata": {},
   "source": [
    "### center and bounding box coordinates"
   ]
  },
  {
   "cell_type": "code",
   "execution_count": 3,
   "metadata": {},
   "outputs": [],
   "source": [
    "# coords table\n",
    "coords = pd.read_excel('./input_params.xlsx', sheet_name = 'coords')\n",
    "coords.set_index('point_name', inplace=True)\n",
    "\n",
    "# center point coords\n",
    "center_lat = coords.loc['center']['lat']\n",
    "center_lon = coords.loc['center']['lon']\n",
    "\n",
    "# south-west bounding box coordinates\n",
    "sw_lat = coords.loc['southwest']['lat']\n",
    "sw_lon = coords.loc['southwest']['lon']\n",
    "\n",
    "# north-east bounding box coordinates\n",
    "ne_lat = coords.loc['northeast']['lat']\n",
    "ne_lon = coords.loc['northeast']['lon']"
   ]
  },
  {
   "cell_type": "markdown",
   "metadata": {},
   "source": [
    "### index distances and cell size"
   ]
  },
  {
   "cell_type": "code",
   "execution_count": 6,
   "metadata": {},
   "outputs": [],
   "source": [
    "# index distances table\n",
    "distances = pd.read_excel('./input_params.xlsx', sheet_name = 'index_distances')\n",
    "distances.set_index('parameter', inplace=True)\n",
    "\n",
    "# cell size\n",
    "cell_size = distances.loc['cell_size']['number']\n",
    "\n",
    "#school distance\n",
    "school_distance = distances.loc['school_distance']['number']\n",
    "\n",
    "#kindergarden distance\n",
    "kinder_distance = distances.loc['kinder_distance']['number']\n",
    "\n",
    "#else distance, applied for everything except schools and kindergardens\n",
    "else_distance = distances.loc['else']['number']"
   ]
  },
  {
   "cell_type": "markdown",
   "metadata": {},
   "source": [
    "### index weights"
   ]
  },
  {
   "cell_type": "code",
   "execution_count": null,
   "metadata": {},
   "outputs": [],
   "source": []
  }
 ],
 "metadata": {
  "kernelspec": {
   "display_name": "Python 3",
   "language": "python",
   "name": "python3"
  },
  "language_info": {
   "codemirror_mode": {
    "name": "ipython",
    "version": 3
   },
   "file_extension": ".py",
   "mimetype": "text/x-python",
   "name": "python",
   "nbconvert_exporter": "python",
   "pygments_lexer": "ipython3",
   "version": "3.7.3"
  }
 },
 "nbformat": 4,
 "nbformat_minor": 2
}
