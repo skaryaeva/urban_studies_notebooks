{
 "cells": [
  {
   "cell_type": "markdown",
   "metadata": {},
   "source": [
    "## HERE Places API\n",
    "\n",
    "works with [HERE Places (Search) API](https://developer.here.com/documentation/places/dev_guide/topics_api/resource-explore.html)\n",
    "\n",
    "Free limit is 250k requests per month, you have to get an API key to replicate the process."
   ]
  },
  {
   "cell_type": "code",
   "execution_count": 22,
   "metadata": {},
   "outputs": [],
   "source": [
    "import geopandas as gpd\n",
    "import pandas as pd\n",
    "from pyproj import CRS\n",
    "import folium\n",
    "import requests\n",
    "from shapely import wkt"
   ]
  },
  {
   "cell_type": "code",
   "execution_count": 23,
   "metadata": {},
   "outputs": [],
   "source": [
    "# reading api keys\n",
    "api_keys = pd.read_excel('../api_keys.xlsx')\n",
    "api_keys.set_index('key_name', inplace=True)\n",
    "\n",
    "# HERE Rest api key\n",
    "here_api_key = api_keys.loc['here_rest_api']['key']"
   ]
  },
  {
   "cell_type": "code",
   "execution_count": 24,
   "metadata": {},
   "outputs": [
    {
     "name": "stdout",
     "output_type": "stream",
     "text": [
      "Number of cells in grid: 1724\n",
      "The CRS for grid layer is correct: True\n"
     ]
    }
   ],
   "source": [
    "# centroids for city\n",
    "centroids = gpd.read_file('./input_data/centroid.shp')\n",
    "\n",
    "print ('Number of cells in grid:',len(centroids))\n",
    "print ('The CRS for grid layer is correct:', centroids.crs.to_epsg()==4326)"
   ]
  },
  {
   "cell_type": "code",
   "execution_count": 25,
   "metadata": {},
   "outputs": [],
   "source": [
    "df_sample = centroids.sample(n=50)"
   ]
  },
  {
   "cell_type": "code",
   "execution_count": 26,
   "metadata": {},
   "outputs": [],
   "source": [
    "URL = 'https://places.ls.hereapi.com/places/v1/discover/explore'"
   ]
  },
  {
   "cell_type": "code",
   "execution_count": 27,
   "metadata": {},
   "outputs": [],
   "source": [
    "radius=300"
   ]
  },
  {
   "cell_type": "code",
   "execution_count": 28,
   "metadata": {},
   "outputs": [],
   "source": [
    "def here_poi_request(lat, lon, category, start_id):\n",
    "\n",
    "    # start point \n",
    "    start_point = f\"{lat:.6f},{lon:.6f};r={radius}\"\n",
    "    params = { \n",
    "        'apiKey': here_api_key,\n",
    "        'in': start_point,\n",
    "        'cat': category,\n",
    "            }\n",
    "    response = requests.get(URL, params=params)\n",
    "    response_json = response.json()\n",
    "    try:\n",
    "        poi = pd.json_normalize(response_json['results']['items'])\n",
    "        \n",
    "        # coordinates conversion\n",
    "        coord = poi['position'].astype('str').str.strip('[]').str.split(\", \", expand = True)\n",
    "        coord.columns = ['lat', 'lon']\n",
    "\n",
    "        coord['lat'] = coord['lat'].astype('float64')\n",
    "        coord['lon'] = coord['lon'].astype('float64')\n",
    "\n",
    "        poi = poi.join(coord)\n",
    "\n",
    "        # start point\n",
    "        poi['start_id'] = start_id\n",
    "        \n",
    "        return poi\n",
    "    \n",
    "    except Exception as e:\n",
    "        print ('for point', lat, lon)\n",
    "        print ('result is')\n",
    "        print (response_json['results']['items'])"
   ]
  },
  {
   "cell_type": "markdown",
   "metadata": {},
   "source": [
    "categories in HERE places search can be explored on https://developer.here.com/documentation/places/dev_guide/topics/place_categories/places-category-system.html"
   ]
  },
  {
   "cell_type": "code",
   "execution_count": 29,
   "metadata": {},
   "outputs": [
    {
     "name": "stdout",
     "output_type": "stream",
     "text": [
      "for point 54.90051009362103 52.422380831632005\n",
      "result is\n",
      "[]\n",
      "for point 54.948170026860296 52.38112449898957\n",
      "result is\n",
      "[]\n",
      "for point 54.87893735520465 52.3436842244789\n",
      "result is\n",
      "[]\n",
      "for point 54.86308534695454 52.35484287100544\n",
      "result is\n",
      "[]\n",
      "for point 54.93372099589962 52.26356640624879\n",
      "result is\n",
      "[]\n",
      "for point 54.878186756664086 52.40990409830355\n",
      "result is\n",
      "[]\n",
      "for point 54.89144386004941 52.2232629552624\n",
      "result is\n",
      "[]\n",
      "for point 54.948081118481184 52.38892849181378\n",
      "result is\n",
      "[]\n",
      "for point 54.8797742072568 52.26577466384227\n",
      "result is\n",
      "[]\n",
      "for point 54.93720376938205 52.35733384688641\n",
      "result is\n",
      "[]\n",
      "for point 54.85522826584042 52.24942793498776\n",
      "result is\n",
      "[]\n",
      "for point 54.878544474879575 52.378742187516316\n",
      "result is\n",
      "[]\n",
      "for point 54.87266558925483 52.300617449087156\n",
      "result is\n",
      "[]\n",
      "for point 54.91823929475309 52.23967787559933\n",
      "result is\n",
      "[]\n",
      "for point 54.89136513790634 52.23105646950997\n",
      "result is\n",
      "[]\n",
      "for point 54.91029518385178 52.352528332287\n",
      "result is\n",
      "[]\n",
      "for point 54.86143521058681 52.30025595791929\n",
      "result is\n",
      "[]\n",
      "for point 54.903250415779475 52.379586350046345\n",
      "result is\n",
      "[]\n",
      "for point 54.92553209690047 52.39595414243364\n",
      "result is\n",
      "[]\n",
      "for point 54.91733396871439 52.32546078561042\n",
      "result is\n",
      "[]\n",
      "for point 54.86105494521485 52.33529936460131\n",
      "result is\n",
      "[]\n",
      "for point 54.885718487282084 52.34001244519476\n",
      "result is\n",
      "[]\n",
      "for point 54.86212590773494 52.23406065808745\n",
      "result is\n",
      "[]\n",
      "for point 54.890167504675915 52.34405802943983\n",
      "result is\n",
      "[]\n",
      "for point 54.8865125075894 52.265985921830065\n",
      "result is\n",
      "[]\n",
      "for point 54.93139356985661 52.27129712083084\n",
      "result is\n",
      "[]\n",
      "for point 54.92710379685484 52.251654714560814\n",
      "result is\n",
      "[]\n",
      "for point 54.88907946541331 52.23488449716602\n",
      "result is\n",
      "[]\n",
      "for point 54.88735054701366 52.39463351267678\n",
      "result is\n",
      "[]\n",
      "for point 54.927223725740355 52.2399541590339\n",
      "result is\n",
      "[]\n",
      "for point 54.93962301909312 52.341804620148764\n",
      "result is\n",
      "[]\n",
      "for point 54.8768626750922 52.32802877267539\n",
      "result is\n",
      "[]\n",
      "for point 54.92579860109282 52.37255519995273\n",
      "result is\n",
      "[]\n",
      "for point 54.87050267345853 52.29275586526882\n",
      "result is\n",
      "[]\n",
      "for point 54.87107079737668 52.23822990291385\n",
      "result is\n",
      "[]\n",
      "for point 54.92808857171142 52.368731600204285\n",
      "result is\n",
      "[]\n",
      "for point 54.86368128812095 52.30032823609106\n",
      "result is\n",
      "[]\n",
      "for point 54.874402142363365 52.347429713294794\n",
      "result is\n",
      "[]\n",
      "for point 54.878894201336884 52.347579595595704\n",
      "result is\n",
      "[]\n",
      "for point 54.85735364559112 52.26117768670445\n",
      "result is\n",
      "[]\n"
     ]
    }
   ],
   "source": [
    "category = 'eat-drink'\n",
    "\n",
    "poi_long_list = pd.DataFrame()\n",
    "\n",
    "point_lat_list = df_sample['lat'].to_list()\n",
    "point_lon_list = df_sample['lon'].to_list()\n",
    "start_ids_list = df_sample['id'].to_list()\n",
    "\n",
    "\n",
    "for lat, lon, start_id in zip(point_lat_list, point_lon_list, start_ids_list):\n",
    "    try:\n",
    "        poi_part = here_poi_request(lat, lon, category, start_id)\n",
    "        poi_long_list = poi_long_list.append(poi_part)\n",
    "    except Exception as e:\n",
    "        print (e)"
   ]
  },
  {
   "cell_type": "code",
   "execution_count": 30,
   "metadata": {},
   "outputs": [
    {
     "data": {
      "text/plain": [
       "35"
      ]
     },
     "execution_count": 30,
     "metadata": {},
     "output_type": "execute_result"
    }
   ],
   "source": [
    "len(poi_long_list)"
   ]
  },
  {
   "cell_type": "code",
   "execution_count": 31,
   "metadata": {},
   "outputs": [
    {
     "data": {
      "text/plain": [
       "33"
      ]
     },
     "execution_count": 31,
     "metadata": {},
     "output_type": "execute_result"
    }
   ],
   "source": [
    "poi_long_list['id'].nunique()"
   ]
  },
  {
   "cell_type": "code",
   "execution_count": 32,
   "metadata": {},
   "outputs": [
    {
     "data": {
      "text/plain": [
       "33"
      ]
     },
     "execution_count": 32,
     "metadata": {},
     "output_type": "execute_result"
    }
   ],
   "source": [
    "#extra columns\n",
    "#poi_long_list.drop(['icon', 'averageRating', \n",
    "       #          'openingHours.text', 'openingHours.label', 'openingHours.isOpen', 'openingHours.structured'], \n",
    "           #                 axis=1, inplace = True)\n",
    "\n",
    "# drop duplicates\n",
    "poi_long_list.drop_duplicates(subset='id', inplace=True)\n",
    "len(poi_long_list)"
   ]
  },
  {
   "cell_type": "code",
   "execution_count": 34,
   "metadata": {},
   "outputs": [],
   "source": [
    "poi_long_list.to_csv('./output/{}.csv'.format(category))"
   ]
  }
 ],
 "metadata": {
  "kernelspec": {
   "display_name": "Python 3",
   "language": "python",
   "name": "python3"
  },
  "language_info": {
   "codemirror_mode": {
    "name": "ipython",
    "version": 3
   },
   "file_extension": ".py",
   "mimetype": "text/x-python",
   "name": "python",
   "nbconvert_exporter": "python",
   "pygments_lexer": "ipython3",
   "version": "3.8.6"
  }
 },
 "nbformat": 4,
 "nbformat_minor": 4
}
