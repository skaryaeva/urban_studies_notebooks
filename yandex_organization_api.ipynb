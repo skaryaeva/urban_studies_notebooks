{
 "cells": [
  {
   "cell_type": "markdown",
   "metadata": {},
   "source": [
    "works with https://tech.yandex.ru/maps/geosearch/doc/concepts/request-docpage/"
   ]
  },
  {
   "cell_type": "code",
   "execution_count": 9,
   "metadata": {},
   "outputs": [],
   "source": [
    "import pandas as pd\n",
    "import requests\n",
    "import os"
   ]
  },
  {
   "cell_type": "markdown",
   "metadata": {},
   "source": [
    "### importing data"
   ]
  },
  {
   "cell_type": "code",
   "execution_count": 10,
   "metadata": {},
   "outputs": [],
   "source": [
    "# reading api keys\n",
    "api_keys = pd.read_excel('../api_keys.xlsx')\n",
    "api_keys.set_index('key_name', inplace=True)\n",
    "\n",
    "# API Yandex organization search\n",
    "search_api_key = api_keys.loc['yandex_search']['key']"
   ]
  },
  {
   "cell_type": "code",
   "execution_count": 11,
   "metadata": {},
   "outputs": [],
   "source": [
    "# coords table\n",
    "coords = pd.read_excel('./input_params.xlsx', sheet_name = 'coords')\n",
    "coords.set_index('point_name', inplace=True)\n",
    "\n",
    "def extract_lon_lat(location):\n",
    "    loc = coords.loc[location]\n",
    "    return loc['lon'], loc['lat']\n",
    "\n",
    "# south-west bounding box coordinates\n",
    "sw_lon, sw_lat = extract_lon_lat('southwest')\n",
    "\n",
    "# north-east bounding box coordinates\n",
    "ne_lon, ne_lat = extract_lon_lat('northeast')"
   ]
  },
  {
   "cell_type": "code",
   "execution_count": 12,
   "metadata": {},
   "outputs": [],
   "source": [
    "# table of items to request\n",
    "request_list = pd.read_excel('./input_params.xlsx', sheet_name = 'request_example')\n"
   ]
  },
  {
   "cell_type": "code",
   "execution_count": 13,
   "metadata": {},
   "outputs": [
    {
     "data": {
      "text/plain": [
       "['education',\n",
       " 'healthcare',\n",
       " 'sport',\n",
       " 'culture',\n",
       " 'shops',\n",
       " 'services',\n",
       " 'food',\n",
       " 'leisure',\n",
       " 'parks',\n",
       " 'government',\n",
       " 'transport']"
      ]
     },
     "execution_count": 13,
     "metadata": {},
     "output_type": "execute_result"
    }
   ],
   "source": [
    "cat_list = list(request_list.columns)\n",
    "cat_list"
   ]
  },
  {
   "cell_type": "code",
   "execution_count": 14,
   "metadata": {},
   "outputs": [
    {
     "name": "stdout",
     "output_type": "stream",
     "text": [
      "['общеобразовательная школа', 'гимназия', 'лицей', 'частная школа', 'школа-интернат', 'детский сад', 'вуз', 'колледж', 'училище', 'художественная школа', 'музыкальная школа']\n",
      "['поликлиника', 'больница', 'пункт скорой помощи', 'фельдшерско-амбулаторный пункт', 'лаборатория анализов', 'аптека', 'женская консультация', 'стоматологическая клиника', 'травмпункт']\n",
      "['стадион', 'бассейн', 'каток', 'спортивная школа', 'спортивный клуб', 'спортплощадка', 'спортивная секция', 'воркаут', 'футбольное поле', 'теннисный корт', 'хоккейная коробка']\n",
      "['кинотеатр', 'концертный зал', 'музей', 'выставка', 'галерея', 'дом культуры', 'библиотека', 'театр', 'цирк', 'зоопарк']\n",
      "['супермаркет', 'магазин продуктов', 'гипермаркет', 'магазин одежды', 'магазин обуви', 'промтовары', 'хозтовары', 'пекарня', 'магазин спортивных товаров', 'магазин электроники', 'салон связи', 'товары для дома', 'алкогольный магазин', 'ювелирный магазин', 'рынок', 'рыбный магазин', 'цветы', 'магазин табака', 'книжный магазин', 'магазин канцтоваров', 'строительный магазин']\n",
      "['салон красоты', 'парикмахерская', 'маникюрный салон', 'ремонт машин', 'ремонт обуви', 'ремонт одежды', 'ремонт техники', 'мойка машин', 'копицентр', 'мастерская', 'ателье', 'школа языков', 'нотариус', 'банк', 'банкомат', 'юридические услуги', 'фотомастерская', 'прачечная', 'химчистка', 'АЗС', 'ремонт компьютеров', 'ветеринарная клиника', 'тренинги и курсы', 'ритуальные услуги', 'реклама', 'страхование', 'гостиница', 'хостел', 'отель', 'спа-салон']\n",
      "['фастфуд', 'ресторан', 'кафе', 'бар', 'суши', 'кондитерская', 'кофейня', 'столовая', 'пиццерия', 'бистро', 'доставка еды', 'паб']\n",
      "['развлекательный центр', 'развлекательный парк', 'парк развлечений', 'детский клуб', 'картинг', 'караоке', 'бильярд', 'боулинг', 'конный клуб', 'йога', 'фитнес-клуб', 'спортивно-развлекательный центр', 'аквапарк', 'танцевальная школа', 'баня', 'аттракционы', 'яхт-клуб', 'тир', 'квесты']\n",
      "['парк', 'сквер', 'пляж', 'лесопарк', 'заповедник', 'парк культуры и отдыха']\n",
      "['загс', 'почта', 'государственные услуги', 'отделение полиции', 'служба одного окна', 'администрация', 'пожарные части и службы']\n",
      "['остановка общественного транспорта', 'станция метро', 'автостанция', 'автовокзал', 'железнодорожный вокзал', 'железнодорожная станция', 'аэропорт', 'аэродром', 'речной вокзал', 'пристань', 'трамвайное депо', 'троллейбусный парк']\n"
     ]
    }
   ],
   "source": [
    "# lists of items without missing values\n",
    "for item_type in cat_list:\n",
    "    list_of_items = request_list[item_type].dropna().to_list()\n",
    "    print(list_of_items)"
   ]
  },
  {
   "cell_type": "markdown",
   "metadata": {},
   "source": [
    "### request"
   ]
  },
  {
   "cell_type": "code",
   "execution_count": 15,
   "metadata": {},
   "outputs": [
    {
     "name": "stdout",
     "output_type": "stream",
     "text": [
      "47.300052 42.846594 47.704613 43.070313\n",
      "(47.300052, 42.846594, 47.5023325, 42.958453500000005)\n",
      "(47.300052, 42.958453500000005, 47.5023325, 43.070313)\n",
      "(47.5023325, 42.846594, 47.704613, 42.958453500000005)\n",
      "(47.5023325, 42.958453500000005, 47.704613, 43.070313)\n"
     ]
    }
   ],
   "source": [
    "# in case we go out of limit with skip counts\n",
    "\n",
    "print(sw_lon, sw_lat, ne_lon, ne_lat)\n",
    "\n",
    "def split_into_quadrants(sw_lon, sw_lat, ne_lon, ne_lat):\n",
    "    for slon in [sw_lon, (sw_lon + ne_lon) / 2]:\n",
    "        for slat in [sw_lat, (sw_lat + ne_lat) / 2]:\n",
    "            yield slon, slat, slon + (ne_lon - sw_lon) / 2, slat + (ne_lat - sw_lat) / 2\n",
    "\n",
    "print(\"\\n\".join(map(str, list(split_into_quadrants(sw_lon, sw_lat, ne_lon, ne_lat)))))"
   ]
  },
  {
   "cell_type": "code",
   "execution_count": 16,
   "metadata": {},
   "outputs": [],
   "source": [
    "def split_single_query_request(search_query, sw_lon, sw_lat, ne_lon, ne_lat):\n",
    "    print(f\"Splitting {search_query} by 4 at\", sw_lon, sw_lat, ne_lon, ne_lat)\n",
    "    results = []\n",
    "    for (lon1, lat1, lon2, lat2) in split_into_quadrants(sw_lon, sw_lat, ne_lon, ne_lat):\n",
    "        results += single_query_request(search_query, lon1, lat1, lon2, lat2)\n",
    "    return results\n",
    "\n",
    "\n",
    "def single_query_request(search_query, sw_lon, sw_lat, ne_lon, ne_lat):\n",
    "    URL = 'https://search-maps.yandex.ru/v1/'\n",
    "    bbox = f\"{sw_lon:.6f},{sw_lat:.6f}~{ne_lon:.6f},{ne_lat:.6f}\"\n",
    "    results = []\n",
    "    for skip_cnt in [0, 500, 1000]:\n",
    "        params = { \n",
    "            'text' : search_query, \n",
    "            'apikey': search_api_key,\n",
    "            'lang': 'ru_RU',\n",
    "            'type':'biz',\n",
    "            'bbox': bbox,\n",
    "            'rspn': 1,\n",
    "            'results': 500,\n",
    "            'skip': skip_cnt\n",
    "        }\n",
    "        response = requests.get(URL, params=params)\n",
    "        response_json = response.json()\n",
    "        results += response_json['features']\n",
    "        feature_count = len(response_json['features'])\n",
    "        if feature_count < 500:\n",
    "            break\n",
    "    else:\n",
    "        return split_single_query_request(search_query, sw_lon, sw_lat, ne_lon, ne_lat)\n",
    "    return results"
   ]
  },
  {
   "cell_type": "code",
   "execution_count": 17,
   "metadata": {},
   "outputs": [],
   "source": [
    "def organization_request(item_type):\n",
    "    # list of queries from column\n",
    "    list_of_items = request_list[item_type].dropna().to_list()\n",
    "    \n",
    "    # request parameters - URL and bounding box\n",
    "        \n",
    "    results = []\n",
    "    \n",
    "    # request\n",
    "    for search_query in list_of_items:\n",
    "        results += single_query_request(search_query, sw_lon, sw_lat, ne_lon, ne_lat)\n",
    "\n",
    "    # take only unique values is results\n",
    "\n",
    "    result_dict = {}\n",
    "    for result in results:\n",
    "        result_dict[result['properties']['CompanyMetaData']['id']] = result\n",
    "    results_unique = list(result_dict.values())\n",
    "\n",
    "    # transform json, delete exceed columns, create category columns\n",
    "    for res in results_unique:\n",
    "        res.update(res['properties'])\n",
    "        res['lon'], res['lat'] = res['geometry']['coordinates']\n",
    "        res.update(res['CompanyMetaData'])\n",
    "        if 'class' not in res['Categories'][0]:\n",
    "            print(\"No 'class' in category: \", res['Categories'][0])\n",
    "        res['category'] = res['Categories'][0].get('class', 'UNKNOWN')\n",
    "        res['category_name'] = res['Categories'][0].get('name', 'UNKNOWN')\n",
    "        for cat in res['Categories']:\n",
    "            res['cat_' + cat.get('class', 'UNKNOWN').replace(' ', '_')] = True\n",
    "        for key in ['properties', 'CompanyMetaData', 'boundedBy', 'type', 'geometry', 'url', 'Phones', 'Hours', 'Categories']:\n",
    "            if key in res:\n",
    "                del res[key]\n",
    "\n",
    "    # create dataframe out of transformed results\n",
    "    df = pd.DataFrame(results_unique)\n",
    "    \n",
    "    return df"
   ]
  },
  {
   "cell_type": "markdown",
   "metadata": {},
   "source": [
    "### saving result"
   ]
  },
  {
   "cell_type": "code",
   "execution_count": 18,
   "metadata": {},
   "outputs": [],
   "source": [
    "# create dir for output files\n",
    "os.makedirs(\"output\", exist_ok=True)"
   ]
  },
  {
   "cell_type": "code",
   "execution_count": 19,
   "metadata": {},
   "outputs": [
    {
     "name": "stdout",
     "output_type": "stream",
     "text": [
      "Splitting магазин продуктов by 4 at 47.300052 42.846594 47.704613 43.070313\n",
      "No 'class' in category:  {'name': 'Сквер'}\n",
      "No 'class' in category:  {'name': 'Сквер'}\n",
      "No 'class' in category:  {'name': 'Сквер'}\n",
      "No 'class' in category:  {'name': 'Сквер'}\n",
      "No 'class' in category:  {'name': 'Сквер'}\n",
      "No 'class' in category:  {'name': 'Сквер'}\n",
      "No 'class' in category:  {'name': 'Сквер'}\n",
      "No 'class' in category:  {'name': 'Сквер'}\n",
      "No 'class' in category:  {'name': 'Сквер'}\n",
      "No 'class' in category:  {'name': 'Сквер'}\n",
      "No 'class' in category:  {'name': 'Сквер'}\n",
      "No 'class' in category:  {'name': 'Сквер'}\n",
      "No 'class' in category:  {'name': 'Сквер'}\n",
      "No 'class' in category:  {'name': 'Сквер'}\n",
      "No 'class' in category:  {'name': 'Сквер'}\n",
      "No 'class' in category:  {'name': 'Сквер'}\n",
      "No 'class' in category:  {'name': 'Сквер'}\n",
      "No 'class' in category:  {'name': 'Сквер'}\n",
      "No 'class' in category:  {'name': 'Сквер'}\n",
      "No 'class' in category:  {'name': 'Сквер'}\n",
      "No 'class' in category:  {'name': 'Сквер'}\n",
      "No 'class' in category:  {'name': 'Сквер'}\n",
      "No 'class' in category:  {'name': 'Автобусные междугородные перевозки'}\n",
      "No 'class' in category:  {'name': 'Автобусные междугородные перевозки'}\n",
      "No 'class' in category:  {'name': 'Троллейбусный парк'}\n"
     ]
    }
   ],
   "source": [
    "# create csv files for every category in request\n",
    "\n",
    "for item_type in cat_list:\n",
    "    df = organization_request(item_type)\n",
    "    df.to_csv(\"./output/{}.csv\".format(str(item_type))) "
   ]
  },
  {
   "cell_type": "markdown",
   "metadata": {},
   "source": [
    "### joining result files"
   ]
  },
  {
   "cell_type": "code",
   "execution_count": 21,
   "metadata": {},
   "outputs": [
    {
     "name": "stdout",
     "output_type": "stream",
     "text": [
      "education 581\n",
      "total with duplicates 581\n",
      "total without duplicates 581\n",
      "healthcare 1090\n",
      "total with duplicates 1671\n",
      "total without duplicates 1671\n",
      "sport 278\n",
      "total with duplicates 1949\n",
      "total without duplicates 1947\n",
      "culture 82\n",
      "total with duplicates 2029\n",
      "total without duplicates 2029\n",
      "shops 5303\n",
      "total with duplicates 7332\n",
      "total without duplicates 7328\n",
      "services 4264\n",
      "total with duplicates 11592\n",
      "total without duplicates 11467\n",
      "food 2071\n",
      "total with duplicates 13538\n",
      "total without duplicates 13419\n",
      "leisure 406\n",
      "total with duplicates 13825\n",
      "total without duplicates 13750\n",
      "parks 44\n",
      "total with duplicates 13794\n",
      "total without duplicates 13766\n",
      "government 238\n",
      "total with duplicates 14004\n",
      "total without duplicates 14003\n",
      "transport 837\n",
      "total with duplicates 14840\n",
      "total without duplicates 14835\n"
     ]
    }
   ],
   "source": [
    "df = pd.DataFrame()\n",
    "        \n",
    "for item_type in cat_list:\n",
    "    tab = pd.read_csv(\"./output/{}.csv\".format(str(item_type)))\n",
    "    print (item_type, len(tab))\n",
    "    df = df.append(tab)\n",
    "        \n",
    "    print ('total with duplicates', len(df))\n",
    "\n",
    "    df.set_index('Unnamed: 0', inplace=True)\n",
    "\n",
    "    df.drop_duplicates(inplace=True)\n",
    "    print ('total without duplicates',len(df))\n",
    "\n",
    "    df.to_csv('./output/yandex_total.csv')"
   ]
  },
  {
   "cell_type": "code",
   "execution_count": null,
   "metadata": {},
   "outputs": [],
   "source": []
  }
 ],
 "metadata": {
  "kernelspec": {
   "display_name": "Python 3",
   "language": "python",
   "name": "python3"
  },
  "language_info": {
   "codemirror_mode": {
    "name": "ipython",
    "version": 3
   },
   "file_extension": ".py",
   "mimetype": "text/x-python",
   "name": "python",
   "nbconvert_exporter": "python",
   "pygments_lexer": "ipython3",
   "version": "3.7.6"
  }
 },
 "nbformat": 4,
 "nbformat_minor": 4
}
