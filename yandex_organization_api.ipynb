{
 "cells": [
  {
   "cell_type": "markdown",
   "metadata": {},
   "source": [
    "works with https://tech.yandex.ru/maps/geosearch/doc/concepts/request-docpage/"
   ]
  },
  {
   "cell_type": "code",
   "execution_count": 1,
   "metadata": {},
   "outputs": [],
   "source": [
    "import pandas as pd\n",
    "import requests\n",
    "import os"
   ]
  },
  {
   "cell_type": "markdown",
   "metadata": {},
   "source": [
    "### importing data"
   ]
  },
  {
   "cell_type": "code",
   "execution_count": 2,
   "metadata": {},
   "outputs": [],
   "source": [
    "# reading api keys\n",
    "api_keys = pd.read_excel('../api_keys.xlsx')\n",
    "api_keys.set_index('key_name', inplace=True)\n",
    "\n",
    "# API Yandex organization search\n",
    "search_api_key = api_keys.loc['yandex_search']['key']"
   ]
  },
  {
   "cell_type": "code",
   "execution_count": 3,
   "metadata": {},
   "outputs": [],
   "source": [
    "# coords table\n",
    "coords = pd.read_excel('./input_params.xlsx', sheet_name = 'coords')\n",
    "coords.set_index('point_name', inplace=True)\n",
    "\n",
    "def extract_lon_lat(location):\n",
    "    loc = coords.loc[location]\n",
    "    return loc['lon'], loc['lat']\n",
    "\n",
    "# south-west bounding box coordinates\n",
    "sw_lon, sw_lat = extract_lon_lat('southwest')\n",
    "\n",
    "# north-east bounding box coordinates\n",
    "ne_lon, ne_lat = extract_lon_lat('northeast')"
   ]
  },
  {
   "cell_type": "code",
   "execution_count": 4,
   "metadata": {},
   "outputs": [],
   "source": [
    "# table of items to request\n",
    "request_list = pd.read_excel('./input_params.xlsx', sheet_name = 'request_example')\n"
   ]
  },
  {
   "cell_type": "code",
   "execution_count": 5,
   "metadata": {},
   "outputs": [
    {
     "name": "stdout",
     "output_type": "stream",
     "text": [
      "['общеобразовательная школа', 'гимназия', 'лицей', 'частная школа', 'школа-интернат', 'детский сад', 'вуз', 'колледж', 'училище', 'художественная школа', 'музыкальная школа']\n",
      "['поликлиника', 'больница', 'пункт скорой помощи', 'фельдшерско-амбулаторный пункт', 'лаборатория анализов', 'аптека', 'женская консультация', 'стоматологическая клиника', 'травмпункт']\n",
      "['стадион', 'бассейн', 'каток', 'спортивная школа', 'спортивный клуб', 'спортивная площадка', 'спортивная секция', 'workout', 'футбольное поле', 'теннисный корт', 'хоккейная коробка']\n",
      "['кинотеатр', 'концертный зал', 'музей', 'выставка', 'галерея', 'дом культуры', 'библиотека', 'театр', 'цирк', 'зоопарк']\n",
      "['супермаркет', 'магазин продуктов', 'гипермаркет', 'магазин одежды', 'магазин обуви', 'промтовары', 'хозтовары', 'пекарня', 'магазин спортивных товаров', 'магазин электроники', 'салон связи', 'товары для дома', 'алкогольный магазин', 'ювелирный магазин', 'рынок', 'рыбный магазин', 'цветы', 'магазин табака', 'книжный магазин', 'магазин канцтоваров', 'строительный магазин']\n",
      "['салон красоты', 'парикмахерская', 'маникюрный салон', 'ремонт машин', 'ремонт обуви', 'ремонт одежды', 'ремонт техники', 'мойка машин', 'копицентр', 'мастерская', 'ателье', 'школа языков', 'нотариус', 'банк', 'банкомат', 'юридические услуги', 'фотомастерская', 'прачечная', 'химчистка', 'АЗС', 'ремонт компьютеров', 'ветеринарная клиника', 'тренинги и курсы', 'ритуальные услуги', 'реклама', 'страхование', 'гостиница', 'хостел', 'отель', 'спа-салон']\n",
      "['фастфуд', 'ресторан', 'кафе', 'бар', 'суши', 'кондитерская', 'кофейня', 'столовая', 'пиццерия', 'бистро', 'доставка еды', 'паб']\n",
      "['развлекательный центр', 'развлекательный парк', 'парк развлечений', 'детский клуб', 'картинг', 'караоке', 'бильярд', 'боулинг', 'конный клуб', 'йога', 'фитнес-клуб', 'спортивно-развлекательный центр', 'аквапарк', 'танцевальная школа', 'баня', 'аттракционы', 'яхт-клуб', 'тир', 'квесты']\n",
      "['парк', 'сквер', 'пляж', 'лесопарк']\n",
      "['загс', 'почта', 'государственные услуги', 'полиция', 'служба одного окна', 'администрация', 'пожарные части и службы']\n",
      "['остановка общественного транспорта', 'станция метро', 'автостанция', 'автовокзал', 'железнодорожный вокзал', 'железнодорожная станция', 'аэропорт', 'аэродром', 'речной вокзал', 'пристань', 'трамвайное депо', 'троллейбусный парк']\n"
     ]
    }
   ],
   "source": [
    "# lists of items without missing values\n",
    "for item_type in list(request_list.columns):\n",
    "    list_of_items = request_list[item_type].dropna().to_list()\n",
    "    print(list_of_items)"
   ]
  },
  {
   "cell_type": "markdown",
   "metadata": {},
   "source": [
    "### request"
   ]
  },
  {
   "cell_type": "code",
   "execution_count": 7,
   "metadata": {},
   "outputs": [
    {
     "name": "stdout",
     "output_type": "stream",
     "text": [
      "103.810924 52.47304499999999 103.92790600000001 52.57374599999999\n",
      "(103.810924, 52.47304499999999, 103.869415, 52.52339549999999)\n",
      "(103.810924, 52.52339549999999, 103.869415, 52.57374599999999)\n",
      "(103.869415, 52.47304499999999, 103.92790600000001, 52.52339549999999)\n",
      "(103.869415, 52.52339549999999, 103.92790600000001, 52.57374599999999)\n"
     ]
    }
   ],
   "source": [
    "# in case we go out of limit with skip counts\n",
    "\n",
    "print(sw_lon, sw_lat, ne_lon, ne_lat)\n",
    "\n",
    "def split_into_quadrants(sw_lon, sw_lat, ne_lon, ne_lat):\n",
    "    for slon in [sw_lon, (sw_lon + ne_lon) / 2]:\n",
    "        for slat in [sw_lat, (sw_lat + ne_lat) / 2]:\n",
    "            yield slon, slat, slon + (ne_lon - sw_lon) / 2, slat + (ne_lat - sw_lat) / 2\n",
    "\n",
    "print(\"\\n\".join(map(str, list(split_into_quadrants(sw_lon, sw_lat, ne_lon, ne_lat)))))"
   ]
  },
  {
   "cell_type": "code",
   "execution_count": 8,
   "metadata": {},
   "outputs": [],
   "source": [
    "def split_single_query_request(search_query, sw_lon, sw_lat, ne_lon, ne_lat):\n",
    "    print(f\"Splitting {search_query} by 4 at\", sw_lon, sw_lat, ne_lon, ne_lat)\n",
    "    results = []\n",
    "    for (lon1, lat1, lon2, lat2) in split_into_quadrants(sw_lon, sw_lat, ne_lon, ne_lat):\n",
    "        results += single_query_request(search_query, lon1, lat1, lon2, lat2)\n",
    "    return results\n",
    "\n",
    "\n",
    "def single_query_request(search_query, sw_lon, sw_lat, ne_lon, ne_lat):\n",
    "    URL = 'https://search-maps.yandex.ru/v1/'\n",
    "    bbox = f\"{sw_lon:.6f},{sw_lat:.6f}~{ne_lon:.6f},{ne_lat:.6f}\"\n",
    "    results = []\n",
    "    for skip_cnt in [0, 500, 1000]:\n",
    "        params = { \n",
    "            'text' : search_query, \n",
    "            'apikey': search_api_key,\n",
    "            'lang': 'ru_RU',\n",
    "            'type':'biz',\n",
    "            'bbox': bbox,\n",
    "            'rspn': 1,\n",
    "            'results': 500,\n",
    "            'skip': skip_cnt\n",
    "        }\n",
    "        response = requests.get(URL, params=params)\n",
    "        response_json = response.json()\n",
    "        results += response_json['features']\n",
    "        feature_count = len(response_json['features'])\n",
    "        if feature_count < 500:\n",
    "            break\n",
    "    else:\n",
    "        return split_single_query_request(search_query, sw_lon, sw_lat, ne_lon, ne_lat)\n",
    "    return results"
   ]
  },
  {
   "cell_type": "code",
   "execution_count": 9,
   "metadata": {},
   "outputs": [],
   "source": [
    "def organization_request(item_type):\n",
    "    # list of queries from column\n",
    "    list_of_items = request_list[item_type].dropna().to_list()\n",
    "    \n",
    "    # request parameters - URL and bounding box\n",
    "        \n",
    "    results = []\n",
    "    \n",
    "    # request\n",
    "    for search_query in list_of_items:\n",
    "        results += single_query_request(search_query, sw_lon, sw_lat, ne_lon, ne_lat)\n",
    "\n",
    "    # take only unique values is results\n",
    "\n",
    "    result_dict = {}\n",
    "    for result in results:\n",
    "        result_dict[result['properties']['CompanyMetaData']['id']] = result\n",
    "    results_unique = list(result_dict.values())\n",
    "\n",
    "    # transform json, delete exceed columns, create category columns\n",
    "    for res in results_unique:\n",
    "        res.update(res['properties'])\n",
    "        res['lon'], res['lat'] = res['geometry']['coordinates']\n",
    "        res.update(res['CompanyMetaData'])\n",
    "        if 'class' not in res['Categories'][0]:\n",
    "            print(\"No 'class' in category: \", res['Categories'][0])\n",
    "        res['category'] = res['Categories'][0].get('class', 'UNKNOWN')\n",
    "        res['category_name'] = res['Categories'][0].get('name', 'UNKNOWN')\n",
    "        for cat in res['Categories']:\n",
    "            res['cat_' + cat.get('class', 'UNKNOWN').replace(' ', '_')] = True\n",
    "        for key in ['properties', 'CompanyMetaData', 'boundedBy', 'type', 'geometry', 'url', 'Phones', 'Hours', 'Categories']:\n",
    "            if key in res:\n",
    "                del res[key]\n",
    "\n",
    "    # create dataframe out of transformed results\n",
    "    df = pd.DataFrame(results_unique)\n",
    "    \n",
    "    return df"
   ]
  },
  {
   "cell_type": "markdown",
   "metadata": {},
   "source": [
    "### saving result"
   ]
  },
  {
   "cell_type": "code",
   "execution_count": 10,
   "metadata": {},
   "outputs": [],
   "source": [
    "# create dir for output files\n",
    "os.makedirs(\"output\", exist_ok=True)"
   ]
  },
  {
   "cell_type": "code",
   "execution_count": 66,
   "metadata": {},
   "outputs": [],
   "source": [
    "# create csv files for every category in request\n",
    "\n",
    "for item_type in list(request_list.columns):\n",
    "    df = organization_request(item_type)\n",
    "    df.to_csv(\"./output/{}.csv\".format(str(item_type))) "
   ]
  },
  {
   "cell_type": "code",
   "execution_count": 11,
   "metadata": {},
   "outputs": [
    {
     "data": {
      "text/plain": [
       "Index(['education', 'healthcare', 'sport', 'culture', 'shops', 'services',\n",
       "       'food', 'leisure', 'parks', 'government', 'transport'],\n",
       "      dtype='object')"
      ]
     },
     "execution_count": 11,
     "metadata": {},
     "output_type": "execute_result"
    }
   ],
   "source": [
    "request_list.columns"
   ]
  },
  {
   "cell_type": "code",
   "execution_count": 13,
   "metadata": {},
   "outputs": [
    {
     "name": "stdout",
     "output_type": "stream",
     "text": [
      "No 'class' in category:  {'name': 'Рыба и морепродукты оптом'}\n",
      "No 'class' in category:  {'name': 'Рыба и морепродукты оптом'}\n",
      "No 'class' in category:  {'name': 'Рыба и морепродукты оптом'}\n"
     ]
    },
    {
     "data": {
      "text/html": [
       "<div>\n",
       "<style scoped>\n",
       "    .dataframe tbody tr th:only-of-type {\n",
       "        vertical-align: middle;\n",
       "    }\n",
       "\n",
       "    .dataframe tbody tr th {\n",
       "        vertical-align: top;\n",
       "    }\n",
       "\n",
       "    .dataframe thead th {\n",
       "        text-align: right;\n",
       "    }\n",
       "</style>\n",
       "<table border=\"1\" class=\"dataframe\">\n",
       "  <thead>\n",
       "    <tr style=\"text-align: right;\">\n",
       "      <th></th>\n",
       "      <th>name</th>\n",
       "      <th>description</th>\n",
       "      <th>lon</th>\n",
       "      <th>lat</th>\n",
       "      <th>id</th>\n",
       "      <th>address</th>\n",
       "      <th>category</th>\n",
       "      <th>category_name</th>\n",
       "      <th>cat_supermarket</th>\n",
       "      <th>cat_malls</th>\n",
       "      <th>...</th>\n",
       "      <th>cat_industrial_enterprise</th>\n",
       "      <th>cat_office_service</th>\n",
       "      <th>cat_fallback_services</th>\n",
       "      <th>cat_clothes_shop</th>\n",
       "      <th>cat_drugstores</th>\n",
       "      <th>cat_mobile_phones</th>\n",
       "      <th>cat_printing_services</th>\n",
       "      <th>cat_furniture_store</th>\n",
       "      <th>cat_haulier</th>\n",
       "      <th>cat_bars</th>\n",
       "    </tr>\n",
       "  </thead>\n",
       "  <tbody>\n",
       "    <tr>\n",
       "      <th>0</th>\n",
       "      <td>СМС</td>\n",
       "      <td>8, 96-й квартал, Ангарск, Россия</td>\n",
       "      <td>103.878009</td>\n",
       "      <td>52.523231</td>\n",
       "      <td>191284502208</td>\n",
       "      <td>Россия, Иркутская область, Ангарск, 96-й кварт...</td>\n",
       "      <td>supermarket</td>\n",
       "      <td>Супермаркет</td>\n",
       "      <td>True</td>\n",
       "      <td>NaN</td>\n",
       "      <td>...</td>\n",
       "      <td>NaN</td>\n",
       "      <td>NaN</td>\n",
       "      <td>NaN</td>\n",
       "      <td>NaN</td>\n",
       "      <td>NaN</td>\n",
       "      <td>NaN</td>\n",
       "      <td>NaN</td>\n",
       "      <td>NaN</td>\n",
       "      <td>NaN</td>\n",
       "      <td>NaN</td>\n",
       "    </tr>\n",
       "    <tr>\n",
       "      <th>1</th>\n",
       "      <td>На Крупской</td>\n",
       "      <td>8, 96-й квартал, Ангарск, Россия</td>\n",
       "      <td>103.877926</td>\n",
       "      <td>52.523152</td>\n",
       "      <td>50481882140</td>\n",
       "      <td>Россия, Иркутская область, Ангарск, 96-й кварт...</td>\n",
       "      <td>supermarket</td>\n",
       "      <td>Супермаркет</td>\n",
       "      <td>True</td>\n",
       "      <td>NaN</td>\n",
       "      <td>...</td>\n",
       "      <td>NaN</td>\n",
       "      <td>NaN</td>\n",
       "      <td>NaN</td>\n",
       "      <td>NaN</td>\n",
       "      <td>NaN</td>\n",
       "      <td>NaN</td>\n",
       "      <td>NaN</td>\n",
       "      <td>NaN</td>\n",
       "      <td>NaN</td>\n",
       "      <td>NaN</td>\n",
       "    </tr>\n",
       "    <tr>\n",
       "      <th>2</th>\n",
       "      <td>Слата</td>\n",
       "      <td>33, 13-й микрорайон, Ангарск, Россия</td>\n",
       "      <td>103.864823</td>\n",
       "      <td>52.519649</td>\n",
       "      <td>140423526726</td>\n",
       "      <td>Россия, Иркутская область, Ангарск, 13-й микро...</td>\n",
       "      <td>supermarket</td>\n",
       "      <td>Супермаркет</td>\n",
       "      <td>True</td>\n",
       "      <td>NaN</td>\n",
       "      <td>...</td>\n",
       "      <td>NaN</td>\n",
       "      <td>NaN</td>\n",
       "      <td>NaN</td>\n",
       "      <td>NaN</td>\n",
       "      <td>NaN</td>\n",
       "      <td>NaN</td>\n",
       "      <td>NaN</td>\n",
       "      <td>NaN</td>\n",
       "      <td>NaN</td>\n",
       "      <td>NaN</td>\n",
       "    </tr>\n",
       "    <tr>\n",
       "      <th>3</th>\n",
       "      <td>Синенький</td>\n",
       "      <td>Московская ул., 54, Ангарск, Россия</td>\n",
       "      <td>103.884949</td>\n",
       "      <td>52.538727</td>\n",
       "      <td>1012925912</td>\n",
       "      <td>Россия, Иркутская область, Ангарск, Московская...</td>\n",
       "      <td>supermarket</td>\n",
       "      <td>Супермаркет</td>\n",
       "      <td>True</td>\n",
       "      <td>NaN</td>\n",
       "      <td>...</td>\n",
       "      <td>NaN</td>\n",
       "      <td>NaN</td>\n",
       "      <td>NaN</td>\n",
       "      <td>NaN</td>\n",
       "      <td>NaN</td>\n",
       "      <td>NaN</td>\n",
       "      <td>NaN</td>\n",
       "      <td>NaN</td>\n",
       "      <td>NaN</td>\n",
       "      <td>NaN</td>\n",
       "    </tr>\n",
       "    <tr>\n",
       "      <th>4</th>\n",
       "      <td>Дискаунтер Хороший</td>\n",
       "      <td>26, 13-й микрорайон, Ангарск, Россия</td>\n",
       "      <td>103.867497</td>\n",
       "      <td>52.517773</td>\n",
       "      <td>14617009521</td>\n",
       "      <td>Россия, Иркутская область, Ангарск, 13-й микро...</td>\n",
       "      <td>supermarket</td>\n",
       "      <td>Супермаркет</td>\n",
       "      <td>True</td>\n",
       "      <td>NaN</td>\n",
       "      <td>...</td>\n",
       "      <td>NaN</td>\n",
       "      <td>NaN</td>\n",
       "      <td>NaN</td>\n",
       "      <td>NaN</td>\n",
       "      <td>NaN</td>\n",
       "      <td>NaN</td>\n",
       "      <td>NaN</td>\n",
       "      <td>NaN</td>\n",
       "      <td>NaN</td>\n",
       "      <td>NaN</td>\n",
       "    </tr>\n",
       "  </tbody>\n",
       "</table>\n",
       "<p>5 rows × 27 columns</p>\n",
       "</div>"
      ],
      "text/plain": [
       "                 name                           description         lon  \\\n",
       "0                 СМС      8, 96-й квартал, Ангарск, Россия  103.878009   \n",
       "1         На Крупской      8, 96-й квартал, Ангарск, Россия  103.877926   \n",
       "2               Слата  33, 13-й микрорайон, Ангарск, Россия  103.864823   \n",
       "3           Синенький   Московская ул., 54, Ангарск, Россия  103.884949   \n",
       "4  Дискаунтер Хороший  26, 13-й микрорайон, Ангарск, Россия  103.867497   \n",
       "\n",
       "         lat            id                                            address  \\\n",
       "0  52.523231  191284502208  Россия, Иркутская область, Ангарск, 96-й кварт...   \n",
       "1  52.523152   50481882140  Россия, Иркутская область, Ангарск, 96-й кварт...   \n",
       "2  52.519649  140423526726  Россия, Иркутская область, Ангарск, 13-й микро...   \n",
       "3  52.538727    1012925912  Россия, Иркутская область, Ангарск, Московская...   \n",
       "4  52.517773   14617009521  Россия, Иркутская область, Ангарск, 13-й микро...   \n",
       "\n",
       "      category category_name cat_supermarket cat_malls  ...  \\\n",
       "0  supermarket   Супермаркет            True       NaN  ...   \n",
       "1  supermarket   Супермаркет            True       NaN  ...   \n",
       "2  supermarket   Супермаркет            True       NaN  ...   \n",
       "3  supermarket   Супермаркет            True       NaN  ...   \n",
       "4  supermarket   Супермаркет            True       NaN  ...   \n",
       "\n",
       "  cat_industrial_enterprise cat_office_service cat_fallback_services  \\\n",
       "0                       NaN                NaN                   NaN   \n",
       "1                       NaN                NaN                   NaN   \n",
       "2                       NaN                NaN                   NaN   \n",
       "3                       NaN                NaN                   NaN   \n",
       "4                       NaN                NaN                   NaN   \n",
       "\n",
       "  cat_clothes_shop cat_drugstores cat_mobile_phones cat_printing_services  \\\n",
       "0              NaN            NaN               NaN                   NaN   \n",
       "1              NaN            NaN               NaN                   NaN   \n",
       "2              NaN            NaN               NaN                   NaN   \n",
       "3              NaN            NaN               NaN                   NaN   \n",
       "4              NaN            NaN               NaN                   NaN   \n",
       "\n",
       "  cat_furniture_store cat_haulier cat_bars  \n",
       "0                 NaN         NaN      NaN  \n",
       "1                 NaN         NaN      NaN  \n",
       "2                 NaN         NaN      NaN  \n",
       "3                 NaN         NaN      NaN  \n",
       "4                 NaN         NaN      NaN  \n",
       "\n",
       "[5 rows x 27 columns]"
      ]
     },
     "execution_count": 13,
     "metadata": {},
     "output_type": "execute_result"
    }
   ],
   "source": [
    "# example for single category\n",
    "\n",
    "df = organization_request('shops')\n",
    "df.to_csv('./output/shops.csv')\n",
    "df.head()"
   ]
  },
  {
   "cell_type": "code",
   "execution_count": null,
   "metadata": {},
   "outputs": [],
   "source": []
  }
 ],
 "metadata": {
  "kernelspec": {
   "display_name": "Python 3",
   "language": "python",
   "name": "python3"
  },
  "language_info": {
   "codemirror_mode": {
    "name": "ipython",
    "version": 3
   },
   "file_extension": ".py",
   "mimetype": "text/x-python",
   "name": "python",
   "nbconvert_exporter": "python",
   "pygments_lexer": "ipython3",
   "version": "3.7.6"
  }
 },
 "nbformat": 4,
 "nbformat_minor": 2
}
