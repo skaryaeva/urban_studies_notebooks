{
 "cells": [
  {
   "cell_type": "markdown",
   "metadata": {},
   "source": [
    "## Yandex organization API\n",
    "\n",
    "This notebook works with [Yandex Organization Search API](https://tech.yandex.ru/maps/geosearch/doc/concepts/request-docpage/), you have to get an API key to replicate the process.\n",
    "\n",
    "Free limit with API key is 500 requests per day, 500 organizations in each request.\n",
    "\n",
    "Retrieving organization points with coordinates according to given list of types within bounding box; bounding box is based on city borders from OSM."
   ]
  },
  {
   "cell_type": "code",
   "execution_count": 2,
   "metadata": {},
   "outputs": [],
   "source": [
    "import pandas as pd\n",
    "import requests\n",
    "\n",
    "import geopandas as gpd\n",
    "\n",
    "from shapely.geometry import Point, LineString, Polygon\n",
    "from shapely.geometry import box\n",
    "import osmnx as ox\n",
    "from pyproj import CRS\n",
    "\n",
    "import matplotlib.pyplot as plt\n",
    "import numpy as np"
   ]
  },
  {
   "cell_type": "markdown",
   "metadata": {},
   "source": [
    "### importing data"
   ]
  },
  {
   "cell_type": "code",
   "execution_count": 3,
   "metadata": {},
   "outputs": [],
   "source": [
    "# reading api keys\n",
    "api_keys = pd.read_excel('../api_keys.xlsx')\n",
    "api_keys.set_index('key_name', inplace=True)\n",
    "\n",
    "# API Yandex organization search\n",
    "search_api_key = api_keys.loc['yandex_search']['key']"
   ]
  },
  {
   "cell_type": "code",
   "execution_count": 4,
   "metadata": {},
   "outputs": [],
   "source": [
    "# long place name for geocoding in OSM\n",
    "place_name = 'городское поселение Альметьевск'"
   ]
  },
  {
   "cell_type": "code",
   "execution_count": 5,
   "metadata": {},
   "outputs": [
    {
     "data": {
      "text/html": [
       "<div>\n",
       "<style scoped>\n",
       "    .dataframe tbody tr th:only-of-type {\n",
       "        vertical-align: middle;\n",
       "    }\n",
       "\n",
       "    .dataframe tbody tr th {\n",
       "        vertical-align: top;\n",
       "    }\n",
       "\n",
       "    .dataframe thead th {\n",
       "        text-align: right;\n",
       "    }\n",
       "</style>\n",
       "<table border=\"1\" class=\"dataframe\">\n",
       "  <thead>\n",
       "    <tr style=\"text-align: right;\">\n",
       "      <th></th>\n",
       "      <th>geometry</th>\n",
       "      <th>place_name</th>\n",
       "      <th>bbox_north</th>\n",
       "      <th>bbox_south</th>\n",
       "      <th>bbox_east</th>\n",
       "      <th>bbox_west</th>\n",
       "    </tr>\n",
       "  </thead>\n",
       "  <tbody>\n",
       "    <tr>\n",
       "      <th>0</th>\n",
       "      <td>POLYGON ((52.20360 54.92292, 52.20461 54.91989...</td>\n",
       "      <td>Almetyevsk, Almetyevsky District, Tatarstan, V...</td>\n",
       "      <td>54.950882</td>\n",
       "      <td>54.850074</td>\n",
       "      <td>52.462423</td>\n",
       "      <td>52.203597</td>\n",
       "    </tr>\n",
       "  </tbody>\n",
       "</table>\n",
       "</div>"
      ],
      "text/plain": [
       "                                            geometry  \\\n",
       "0  POLYGON ((52.20360 54.92292, 52.20461 54.91989...   \n",
       "\n",
       "                                          place_name  bbox_north  bbox_south  \\\n",
       "0  Almetyevsk, Almetyevsky District, Tatarstan, V...   54.950882   54.850074   \n",
       "\n",
       "   bbox_east  bbox_west  \n",
       "0  52.462423  52.203597  "
      ]
     },
     "execution_count": 5,
     "metadata": {},
     "output_type": "execute_result"
    }
   ],
   "source": [
    "# Get place boundary related to the place name as a geodataframe\n",
    "area = ox.geocode_to_gdf(place_name)\n",
    "\n",
    "#grid cells CRS\n",
    "area.crs = CRS.from_epsg(4326).to_wkt()\n",
    "\n",
    "# Check data values\n",
    "area"
   ]
  },
  {
   "cell_type": "code",
   "execution_count": 6,
   "metadata": {},
   "outputs": [],
   "source": [
    "# south-west bounding box coordinates from OSM\n",
    "sw_lat, sw_lon = area['bbox_south'][0], area['bbox_west'][0]\n",
    "\n",
    "# north-east bounding box coordinates from OSM\n",
    "ne_lat, ne_lon  = area['bbox_north'][0], area['bbox_east'][0]"
   ]
  },
  {
   "cell_type": "code",
   "execution_count": 7,
   "metadata": {},
   "outputs": [],
   "source": [
    "# lists of items to request\n",
    "\n",
    "education_list = ['детский сад', 'школа']\n",
    "commercial_list = ['кафе', 'бар', 'супермаркет']"
   ]
  },
  {
   "cell_type": "markdown",
   "metadata": {},
   "source": [
    "### request"
   ]
  },
  {
   "cell_type": "code",
   "execution_count": 8,
   "metadata": {},
   "outputs": [
    {
     "name": "stdout",
     "output_type": "stream",
     "text": [
      "52.2035972 54.8500741 52.4624232 54.9508817\n",
      "(52.2035972, 54.8500741, 52.333010200000004, 54.9004779)\n",
      "(52.2035972, 54.9004779, 52.333010200000004, 54.9508817)\n",
      "(52.333010200000004, 54.8500741, 52.4624232, 54.9004779)\n",
      "(52.333010200000004, 54.9004779, 52.4624232, 54.9508817)\n"
     ]
    }
   ],
   "source": [
    "# in case we go out of limit with skip counts\n",
    "\n",
    "print(sw_lon, sw_lat, ne_lon, ne_lat)\n",
    "\n",
    "def split_into_quadrants(sw_lon, sw_lat, ne_lon, ne_lat):\n",
    "    for slon in [sw_lon, (sw_lon + ne_lon) / 2]:\n",
    "        for slat in [sw_lat, (sw_lat + ne_lat) / 2]:\n",
    "            yield slon, slat, slon + (ne_lon - sw_lon) / 2, slat + (ne_lat - sw_lat) / 2\n",
    "\n",
    "print(\"\\n\".join(map(str, list(split_into_quadrants(sw_lon, sw_lat, ne_lon, ne_lat)))))"
   ]
  },
  {
   "cell_type": "code",
   "execution_count": 9,
   "metadata": {},
   "outputs": [],
   "source": [
    "def split_single_query_request(search_query, sw_lon, sw_lat, ne_lon, ne_lat):\n",
    "    print(f\"Splitting {search_query} by 4 at\", sw_lon, sw_lat, ne_lon, ne_lat)\n",
    "    results = []\n",
    "    for (lon1, lat1, lon2, lat2) in split_into_quadrants(sw_lon, sw_lat, ne_lon, ne_lat):\n",
    "        results += single_query_request(search_query, lon1, lat1, lon2, lat2)\n",
    "    return results\n",
    "\n",
    "\n",
    "def single_query_request(search_query, sw_lon, sw_lat, ne_lon, ne_lat):\n",
    "    URL = 'https://search-maps.yandex.ru/v1/'\n",
    "    bbox = f\"{sw_lon:.6f},{sw_lat:.6f}~{ne_lon:.6f},{ne_lat:.6f}\"\n",
    "    results = []\n",
    "    for skip_cnt in [0, 500, 1000]:\n",
    "        params = { \n",
    "            'text' : search_query, \n",
    "            'apikey': search_api_key,\n",
    "            'lang': 'ru_RU',\n",
    "            'type':'biz',\n",
    "            'bbox': bbox,\n",
    "            'rspn': 1,\n",
    "            'results': 500,\n",
    "            'skip': skip_cnt\n",
    "        }\n",
    "        response = requests.get(URL, params=params)\n",
    "        response_json = response.json()\n",
    "        results += response_json['features']\n",
    "        feature_count = len(response_json['features'])\n",
    "        if feature_count < 500:\n",
    "            break\n",
    "    else:\n",
    "        return split_single_query_request(search_query, sw_lon, sw_lat, ne_lon, ne_lat)\n",
    "    return results"
   ]
  },
  {
   "cell_type": "code",
   "execution_count": 12,
   "metadata": {},
   "outputs": [],
   "source": [
    "def organization_request(item_type):\n",
    "           \n",
    "    results = []\n",
    "    \n",
    "    # request\n",
    "    for search_query in item_type:\n",
    "        results += single_query_request(search_query, sw_lon, sw_lat, ne_lon, ne_lat)\n",
    "\n",
    "    # take only unique values is results\n",
    "\n",
    "    result_dict = {}\n",
    "    for result in results:\n",
    "        result_dict[result['properties']['CompanyMetaData']['id']] = result\n",
    "    results_unique = list(result_dict.values())\n",
    "\n",
    "    # transform json, delete exceed columns, create category columns\n",
    "    for res in results_unique:\n",
    "        res.update(res['properties'])\n",
    "        res['lon'], res['lat'] = res['geometry']['coordinates']\n",
    "        res.update(res['CompanyMetaData'])\n",
    "        if 'class' not in res['Categories'][0]:\n",
    "            print(\"No 'class' in category: \", res['Categories'][0])\n",
    "        res['category'] = res['Categories'][0].get('class', 'UNKNOWN')\n",
    "        res['category_name'] = res['Categories'][0].get('name', 'UNKNOWN')\n",
    "        for cat in res['Categories']:\n",
    "            res['cat_' + cat.get('class', 'UNKNOWN').replace(' ', '_')] = True\n",
    "        for key in ['properties', 'CompanyMetaData', 'boundedBy', 'type', 'geometry', 'url', 'Phones', 'Hours', 'Categories']:\n",
    "            if key in res:\n",
    "                del res[key]\n",
    "\n",
    "    # create dataframe out of transformed results\n",
    "    df = pd.DataFrame(results_unique)\n",
    "    \n",
    "    return df"
   ]
  },
  {
   "cell_type": "markdown",
   "metadata": {},
   "source": [
    "### saving result"
   ]
  },
  {
   "cell_type": "code",
   "execution_count": 13,
   "metadata": {},
   "outputs": [],
   "source": [
    "# create csv files for every category in request\n",
    "\n",
    "cat_list = ['education_list', 'commercial_list']\n",
    "\n",
    "for item in cat_list:\n",
    "    df = organization_request(item)\n",
    "    df.to_csv(\"./output/{}.csv\".format(str(item)))"
   ]
  }
 ],
 "metadata": {
  "kernelspec": {
   "display_name": "Python 3",
   "language": "python",
   "name": "python3"
  },
  "language_info": {
   "codemirror_mode": {
    "name": "ipython",
    "version": 3
   },
   "file_extension": ".py",
   "mimetype": "text/x-python",
   "name": "python",
   "nbconvert_exporter": "python",
   "pygments_lexer": "ipython3",
   "version": "3.8.6"
  }
 },
 "nbformat": 4,
 "nbformat_minor": 4
}
